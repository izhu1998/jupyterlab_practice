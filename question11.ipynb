{
 "cells": [
  {
   "cell_type": "markdown",
   "id": "c615654b-a9aa-448a-a4e8-903b72afb8c3",
   "metadata": {},
   "source": [
    "# Name: Zhitong Zhu\n",
    "# Notebook for assignment 7"
   ]
  },
  {
   "cell_type": "code",
   "execution_count": 4,
   "id": "76e653d5-cf31-4382-93ab-f4630b915eb1",
   "metadata": {},
   "outputs": [
    {
     "name": "stdout",
     "output_type": "stream",
     "text": [
      "5.0\n"
     ]
    }
   ],
   "source": [
    "def compute_mean(numerical_list):\n",
    "    mean_value=sum(numerical_list)/len(numerical_list)\n",
    "    print(mean_value)\n",
    "\n",
    "compute_mean([2, 4, 6, 8])"
   ]
  },
  {
   "cell_type": "markdown",
   "id": "8e1c793f-1805-44e6-a78b-8272103359fc",
   "metadata": {},
   "source": [
    "### The above Python function computes the mean of the values in a list and prints the results. The equation of the mean is displayed as follows in two different ways.\n",
    "$$\n",
    "\\begin{aligned}\n",
    "\\bar{x} = \\frac{x_1 + x_2 + x_3 + ... + x_n}{n} = \\frac{1}{n} \\bigg( \\sum_{i=1}^{n}x_i \\bigg )\n",
    "\\end{aligned}\n",
    "$$"
   ]
  }
 ],
 "metadata": {
  "kernelspec": {
   "display_name": "Python [conda env:jupyterlab_practice_env]",
   "language": "python",
   "name": "conda-env-jupyterlab_practice_env-py"
  },
  "language_info": {
   "codemirror_mode": {
    "name": "ipython",
    "version": 3
   },
   "file_extension": ".py",
   "mimetype": "text/x-python",
   "name": "python",
   "nbconvert_exporter": "python",
   "pygments_lexer": "ipython3",
   "version": "3.13.1"
  }
 },
 "nbformat": 4,
 "nbformat_minor": 5
}
